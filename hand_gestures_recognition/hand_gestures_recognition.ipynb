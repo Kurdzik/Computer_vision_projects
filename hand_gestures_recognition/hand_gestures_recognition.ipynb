{
 "cells": [
  {
   "cell_type": "code",
   "execution_count": null,
   "metadata": {},
   "outputs": [],
   "source": [
    "import cv2\n",
    "from cvzone.HandTrackingModule import HandDetector\n",
    "\n",
    "def count_fingers():\n",
    "\n",
    "    cap = cv2.VideoCapture(0)\n",
    "\n",
    "    #detect hands\n",
    "    detector = HandDetector(maxHands=2,detectionCon=0.8)\n",
    "\n",
    "    while True:\n",
    "        success, frame = cap.read()\n",
    "\n",
    "        hands, frame = detector.findHands(frame)\n",
    "        \n",
    "        if not success:\n",
    "            break\n",
    "        \n",
    "        if hands:\n",
    "            #get landmark list\n",
    "            lmList = hands[0]['lmList']\n",
    "\n",
    "            #first finger up\n",
    "            if lmList[8][1]<lmList[7][1] and lmList[12][1]>lmList[10][1]:\n",
    "                yield 1\n",
    "            \n",
    "            #two fingers up\n",
    "            elif lmList[12][1]<lmList[10][1] and lmList[8][1]<lmList[7][1]:\n",
    "                yield 2 \n",
    "\n",
    "        cv2.imshow('Video',frame)\n",
    "        \n",
    "        k = cv2.waitKey(1)\n",
    "\n",
    "        if k==27:\n",
    "            cv2.destroyAllWindows()\n",
    "            break"
   ]
  },
  {
   "cell_type": "code",
   "execution_count": null,
   "metadata": {},
   "outputs": [],
   "source": [
    "for el in count_fingers():\n",
    "    print(el)"
   ]
  }
 ],
 "metadata": {
  "interpreter": {
   "hash": "6ffd84bf8e65848be7d1e9b6039165e3b5095de0804369bba418d4ba36f25df4"
  },
  "kernelspec": {
   "display_name": "Python 3.9.12 ('obj_detection')",
   "language": "python",
   "name": "python3"
  },
  "language_info": {
   "codemirror_mode": {
    "name": "ipython",
    "version": 3
   },
   "file_extension": ".py",
   "mimetype": "text/x-python",
   "name": "python",
   "nbconvert_exporter": "python",
   "pygments_lexer": "ipython3",
   "version": "3.9.12"
  },
  "orig_nbformat": 4
 },
 "nbformat": 4,
 "nbformat_minor": 2
}
